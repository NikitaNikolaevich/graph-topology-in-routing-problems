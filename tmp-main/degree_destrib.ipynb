{
 "cells": [
  {
   "cell_type": "code",
   "execution_count": 4,
   "id": "initial_id",
   "metadata": {
    "collapsed": true,
    "ExecuteTime": {
     "end_time": "2024-07-13T14:29:21.800398Z",
     "start_time": "2024-07-13T14:29:21.782523Z"
    }
   },
   "outputs": [],
   "source": [
    "import math\n",
    "import pickle\n",
    "import random\n",
    "import sys\n",
    "from multiprocessing import Pool\n",
    "\n",
    "import networkx as nx\n",
    "import numpy as np\n",
    "import pandas as pd\n",
    "from scipy.spatial import KDTree as kd\n",
    "from tqdm import trange, tqdm\n",
    "import matplotlib.pyplot as plt\n",
    "import city_tests\n",
    "import graph_generator\n",
    "\n",
    "import osmnx as ox\n"
   ]
  },
  {
   "cell_type": "code",
   "outputs": [],
   "source": [
    "\n",
    "\n",
    "def get_graph(city_id: str = 'R2555133') -> nx.Graph:\n",
    "    gdf = ox.geocode_to_gdf(city_id, by_osmid=True)\n",
    "    polygon_boundary = gdf.unary_union\n",
    "    graph = ox.graph_from_polygon(polygon_boundary,\n",
    "                                  network_type='drive',\n",
    "                                  simplify=True)\n",
    "    G = nx.Graph(graph)\n",
    "    H = nx.Graph()\n",
    "    # Добавляем рёбра в новый граф, копируя только веса\n",
    "    for u, d in G.nodes(data=True):\n",
    "        H.add_node(u, x=d['x'], y=d['y'])\n",
    "    for u, v, d in G.edges(data=True):\n",
    "        H.add_edge(u, v, length=d['length'])\n",
    "    del city_id, gdf, polygon_boundary, graph, G\n",
    "    return H\n",
    "\n",
    "\n",
    "def calculate(data):\n",
    "    cities = data[0]\n",
    "    points_number = data[1]\n",
    "    NUMBER = data[2]\n",
    "    THREADS = data[3]\n",
    "\n",
    "    for name, id in cities:\n",
    "        G = get_graph(id)\n",
    "\n",
    "        points = [graph_generator.get_node_for_initial_graph_v2(G) for _ in\n",
    "                  range(points_number)]\n",
    "\n",
    "        Q = G.copy()\n",
    "        for u in Q.nodes:\n",
    "            if u in Q[u]:\n",
    "                Q.remove_edge(u, u)\n",
    "        data = {}\n",
    "        for (u, d) in Q.degree:\n",
    "            if d not in data:\n",
    "                data[d] = 0\n",
    "            data[d] += 1\n",
    "        dd = {\n",
    "            'degree': [],\n",
    "            'probability': []\n",
    "        }\n",
    "        total = sum([d for d in data.values()])\n",
    "\n",
    "        for d in data:\n",
    "            dd['degree'].append(d)\n",
    "            dd['probability'].append(data[d] / total)\n",
    "        df = pd.DataFrame.from_dict(dd)\n",
    "        print(df)\n",
    "        return df"
   ],
   "metadata": {
    "collapsed": false,
    "ExecuteTime": {
     "end_time": "2024-07-13T14:29:21.947144Z",
     "start_time": "2024-07-13T14:29:21.904608Z"
    }
   },
   "id": "79e2d3dea7a203bd",
   "execution_count": 5
  },
  {
   "cell_type": "code",
   "outputs": [
    {
     "name": "stdout",
     "output_type": "stream",
     "text": [
      "   degree  probability\n",
      "0       4     0.230009\n",
      "1       3     0.655249\n",
      "2       2     0.040139\n",
      "3       5     0.016707\n",
      "4       1     0.056530\n",
      "5       6     0.001261\n",
      "6       7     0.000105\n"
     ]
    }
   ],
   "source": [
    "\n",
    "\n",
    "if __name__ == '__main__':\n",
    "    total = 1\n",
    "    points_number = 500\n",
    "    if len(sys.argv) == 2:\n",
    "        total = int(sys.argv[1])\n",
    "\n",
    "    # print('THREADS:', total)\n",
    "    # print('POINTS:', points_number)\n",
    "\n",
    "    cities = {\n",
    "        # 'ASHA': 'R13470549',\n",
    "        # 'KRG': 'R4676636',\n",
    "        # 'EKB': 'R6564910',\n",
    "        # 'BARCELONA': 'R347950',\n",
    "        'PARIS': 'R71525',\n",
    "        # 'Prague': 'R435514',\n",
    "        # 'MSK': 'R2555133',\n",
    "        # 'SBP': 'R337422',\n",
    "        # 'SINGAPORE': 'R17140517',\n",
    "        # 'BERLIN': 'R62422',\n",
    "        # 'ROME': 'R41485',\n",
    "        # 'LA': 'R207359',\n",
    "        # 'DUBAI': 'R4479752',\n",
    "        # 'RIO': 'R2697338',\n",
    "        # 'DELHI': 'R1942586',\n",
    "        # 'KAIR': 'R5466227'\n",
    "    }\n",
    "    total_len = len(cities)\n",
    "    l = list(cities.items())\n",
    "    data = [[l[i: total_len: total], points_number, i + 1, total] for i in range(total)]\n",
    "\n",
    "    df = calculate(data[0])"
   ],
   "metadata": {
    "collapsed": false,
    "ExecuteTime": {
     "end_time": "2024-07-13T14:30:12.040460Z",
     "start_time": "2024-07-13T14:29:22.027543Z"
    }
   },
   "id": "691534c0b306b5ec",
   "execution_count": 6
  },
  {
   "cell_type": "code",
   "outputs": [
    {
     "data": {
      "text/plain": "   degree  probability\n0       4     0.230009\n1       3     0.655249\n2       2     0.040139\n3       5     0.016707\n4       1     0.056530\n5       6     0.001261\n6       7     0.000105",
      "text/html": "<div>\n<style scoped>\n    .dataframe tbody tr th:only-of-type {\n        vertical-align: middle;\n    }\n\n    .dataframe tbody tr th {\n        vertical-align: top;\n    }\n\n    .dataframe thead th {\n        text-align: right;\n    }\n</style>\n<table border=\"1\" class=\"dataframe\">\n  <thead>\n    <tr style=\"text-align: right;\">\n      <th></th>\n      <th>degree</th>\n      <th>probability</th>\n    </tr>\n  </thead>\n  <tbody>\n    <tr>\n      <th>0</th>\n      <td>4</td>\n      <td>0.230009</td>\n    </tr>\n    <tr>\n      <th>1</th>\n      <td>3</td>\n      <td>0.655249</td>\n    </tr>\n    <tr>\n      <th>2</th>\n      <td>2</td>\n      <td>0.040139</td>\n    </tr>\n    <tr>\n      <th>3</th>\n      <td>5</td>\n      <td>0.016707</td>\n    </tr>\n    <tr>\n      <th>4</th>\n      <td>1</td>\n      <td>0.056530</td>\n    </tr>\n    <tr>\n      <th>5</th>\n      <td>6</td>\n      <td>0.001261</td>\n    </tr>\n    <tr>\n      <th>6</th>\n      <td>7</td>\n      <td>0.000105</td>\n    </tr>\n  </tbody>\n</table>\n</div>"
     },
     "execution_count": 7,
     "metadata": {},
     "output_type": "execute_result"
    }
   ],
   "source": [
    "df"
   ],
   "metadata": {
    "collapsed": false,
    "ExecuteTime": {
     "end_time": "2024-07-13T14:30:12.093274Z",
     "start_time": "2024-07-13T14:30:12.048315Z"
    }
   },
   "id": "18dca61385b966ba",
   "execution_count": 7
  },
  {
   "cell_type": "code",
   "outputs": [],
   "source": [
    "momentums = {}\n",
    "for i in range(1, 10):\n",
    "    momentums[i] = 0\n",
    "    for j in range(len(df)):\n",
    "        momentums[i] += (df['degree'][j] ** i) * df['probability'][j]\n"
   ],
   "metadata": {
    "collapsed": false,
    "ExecuteTime": {
     "end_time": "2024-07-13T14:30:12.119348Z",
     "start_time": "2024-07-13T14:30:12.100596Z"
    }
   },
   "id": "3a443eba7a6cc5",
   "execution_count": 8
  },
  {
   "cell_type": "code",
   "outputs": [
    {
     "name": "stdout",
     "output_type": "stream",
     "text": [
      "1 : 3.114426815172849\n",
      "2 : 10.262687821792586\n",
      "3 : 35.18671850373017\n",
      "4 : 124.9845539560786\n",
      "5 : 459.87601134811393\n",
      "6 : 1754.656929704739\n",
      "7 : 6951.433434905958\n",
      "8 : 28633.035410318378\n",
      "9 : 122791.35862141431\n"
     ]
    }
   ],
   "source": [
    "for m in momentums:\n",
    "    print(m, ':', momentums[m])"
   ],
   "metadata": {
    "collapsed": false,
    "ExecuteTime": {
     "end_time": "2024-07-13T14:30:12.147398Z",
     "start_time": "2024-07-13T14:30:12.131142Z"
    }
   },
   "id": "192edf26b2150344",
   "execution_count": 9
  },
  {
   "cell_type": "code",
   "outputs": [
    {
     "name": "stdout",
     "output_type": "stream",
     "text": [
      "[0.00000000e+00 7.17345846e-02 4.40354581e-02 8.16758547e-01\n",
      " 6.18335351e-02 5.62086664e-03 1.70086744e-05]\n"
     ]
    }
   ],
   "source": [
    "degree_destrib = {\n",
    "    0: 0,\n",
    "    3: 0.816342,\n",
    "    2: 0.044013,\n",
    "    1: 0.071698,\n",
    "    4: 0.061802,\n",
    "    5: 0.005618,\n",
    "    7: 0.000017\n",
    "}\n",
    "\n",
    "q = list(degree_destrib.items())\n",
    "q.sort(key=lambda x: x[0])\n",
    "degree_destrib = dict(q)\n",
    "W = list(degree_destrib.values())\n",
    "\n",
    "W = np.array(W)\n",
    "W/=np.sum(W)\n",
    "print(W)\n"
   ],
   "metadata": {
    "collapsed": false,
    "ExecuteTime": {
     "end_time": "2024-07-13T14:30:12.174949Z",
     "start_time": "2024-07-13T14:30:12.154533Z"
    }
   },
   "id": "30f15f96d900c6d2",
   "execution_count": 10
  },
  {
   "cell_type": "code",
   "outputs": [],
   "source": [
    "S = nx.expected_degree_graph(W)"
   ],
   "metadata": {
    "collapsed": false,
    "ExecuteTime": {
     "end_time": "2024-07-13T14:30:12.195513Z",
     "start_time": "2024-07-13T14:30:12.182870Z"
    }
   },
   "id": "9ca8eaa4bab1b490",
   "execution_count": 11
  },
  {
   "cell_type": "code",
   "outputs": [],
   "source": [
    "# print(len(S.nodes))"
   ],
   "metadata": {
    "collapsed": false,
    "ExecuteTime": {
     "end_time": "2024-07-13T14:30:12.214100Z",
     "start_time": "2024-07-13T14:30:12.203277Z"
    }
   },
   "id": "54011055d4c89cfb",
   "execution_count": 12
  },
  {
   "cell_type": "code",
   "outputs": [
    {
     "name": "stdout",
     "output_type": "stream",
     "text": [
      "1.0\n"
     ]
    }
   ],
   "source": [
    "print(sum(W))"
   ],
   "metadata": {
    "collapsed": false,
    "ExecuteTime": {
     "end_time": "2024-07-13T14:30:12.234315Z",
     "start_time": "2024-07-13T14:30:12.223002Z"
    }
   },
   "id": "3784ab251e0a8af3",
   "execution_count": 13
  },
  {
   "cell_type": "code",
   "outputs": [
    {
     "name": "stdout",
     "output_type": "stream",
     "text": [
      "[0.00000000e+00 7.17345846e-02 4.40354581e-02 8.16758547e-01\n",
      " 6.18335351e-02 5.62086664e-03 1.70086744e-05]\n"
     ]
    }
   ],
   "source": [
    "print(W)"
   ],
   "metadata": {
    "collapsed": false,
    "ExecuteTime": {
     "end_time": "2024-07-13T14:30:12.256506Z",
     "start_time": "2024-07-13T14:30:12.242834Z"
    }
   },
   "id": "108d1c19daa39835",
   "execution_count": 14
  },
  {
   "cell_type": "code",
   "outputs": [
    {
     "ename": "NameError",
     "evalue": "name 'c' is not defined",
     "output_type": "error",
     "traceback": [
      "\u001B[0;31m---------------------------------------------------------------------------\u001B[0m",
      "\u001B[0;31mNameError\u001B[0m                                 Traceback (most recent call last)",
      "Cell \u001B[0;32mIn[15], line 1\u001B[0m\n\u001B[0;32m----> 1\u001B[0m \u001B[38;5;28mprint\u001B[39m(\u001B[43mc\u001B[49m)\n",
      "\u001B[0;31mNameError\u001B[0m: name 'c' is not defined"
     ]
    }
   ],
   "source": [
    "# print(c)"
   ],
   "metadata": {
    "collapsed": false,
    "ExecuteTime": {
     "end_time": "2024-07-13T14:30:13.344854Z",
     "start_time": "2024-07-13T14:30:12.270908Z"
    }
   },
   "id": "df81abd46ce1349d",
   "execution_count": 15
  },
  {
   "cell_type": "code",
   "outputs": [],
   "source": [
    "N = 100\n",
    "degrees = np.random.choice(range(0, len(W)), size=N,p=W)\n",
    "print(degrees)"
   ],
   "metadata": {
    "collapsed": false
   },
   "id": "23a6cd611627222a",
   "execution_count": null
  }
 ],
 "metadata": {
  "kernelspec": {
   "display_name": "Python 3",
   "language": "python",
   "name": "python3"
  },
  "language_info": {
   "codemirror_mode": {
    "name": "ipython",
    "version": 2
   },
   "file_extension": ".py",
   "mimetype": "text/x-python",
   "name": "python",
   "nbconvert_exporter": "python",
   "pygments_lexer": "ipython2",
   "version": "2.7.6"
  }
 },
 "nbformat": 4,
 "nbformat_minor": 5
}
