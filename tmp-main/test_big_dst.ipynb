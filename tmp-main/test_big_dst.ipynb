{
 "cells": [
  {
   "cell_type": "code",
   "execution_count": null,
   "id": "initial_id",
   "metadata": {
    "collapsed": true
   },
   "outputs": [],
   "source": []
  },
  {
   "cell_type": "code",
   "outputs": [],
   "source": [
    "import pickle\n",
    "from functools import partial\n",
    "from os import listdir\n",
    "from os.path import isfile, join\n",
    "\n",
    "import numpy as np\n",
    "import scipy\n",
    "from matplotlib import pyplot as plt\n",
    "from scipy.optimize import curve_fit\n",
    "\n",
    "import graph_generator\n",
    "from common import CityResult,CentroidResult\n",
    "from file_name_generator import generate_new_name\n"
   ],
   "metadata": {
    "collapsed": false,
    "ExecuteTime": {
     "end_time": "2024-07-23T05:23:52.161450Z",
     "start_time": "2024-07-23T05:23:50.246714Z"
    }
   },
   "id": "efc8dad9d9823915",
   "execution_count": 1
  },
  {
   "cell_type": "code",
   "outputs": [],
   "source": [
    "plt.rc('legend', fontsize=30)    # legend fontsize\n",
    "plt.rcParams.update({'font.size': 30})\n",
    "# plt.rcParams.update(plt.rcParamsDefault)\n",
    "plt.rcParams['text.usetex'] = False"
   ],
   "metadata": {
    "collapsed": false,
    "ExecuteTime": {
     "end_time": "2024-07-23T05:23:52.169580Z",
     "start_time": "2024-07-23T05:23:52.163991Z"
    }
   },
   "id": "2f98c98ca42a6299",
   "execution_count": 2
  },
  {
   "cell_type": "code",
   "outputs": [],
   "source": [],
   "metadata": {
    "collapsed": false
   },
   "id": "7ec7ec06ff09fe6",
   "execution_count": 8
  },
  {
   "cell_type": "markdown",
   "source": [
    "Загрузка данных"
   ],
   "metadata": {
    "collapsed": false
   },
   "id": "b597b52737f3615a"
  },
  {
   "cell_type": "code",
   "outputs": [],
   "source": [
    "mypath = './clusters_results/2024_07_23'"
   ],
   "metadata": {
    "collapsed": false,
    "ExecuteTime": {
     "end_time": "2024-07-23T05:23:58.092946Z",
     "start_time": "2024-07-23T05:23:58.089289Z"
    }
   },
   "id": "a44fd1ca105d0baa",
   "execution_count": 5
  },
  {
   "cell_type": "code",
   "outputs": [],
   "source": [
    "onlyfiles = [f for f in listdir(mypath) if isfile(join(mypath, f))]\n",
    "\n",
    "r : dict[str:CityResult]= {}\n",
    "for name in onlyfiles:\n",
    "    with open(join(mypath, name), 'rb') as f:\n",
    "        r[name] = pickle.load(f)\n",
    "        f.close()"
   ],
   "metadata": {
    "collapsed": false,
    "ExecuteTime": {
     "end_time": "2024-07-23T05:24:02.387732Z",
     "start_time": "2024-07-23T05:23:59.649967Z"
    }
   },
   "id": "702ff5a73e4dbf23",
   "execution_count": 6
  },
  {
   "cell_type": "code",
   "outputs": [
    {
     "name": "stdout",
     "output_type": "stream",
     "text": [
      "{'R1312868.pkl': <common.CityResult object at 0x7facdd1851b0>, 'R2758781.pkl': <common.CityResult object at 0x7fad340ac3a0>, 'R2999176.pkl': <common.CityResult object at 0x7facdcd7fac0>, 'R182887.pkl': <common.CityResult object at 0x7facdcd7dde0>, 'R1390623.pkl': <common.CityResult object at 0x7facdcd7e830>, 'R963764.pkl': <common.CityResult object at 0x7facdcd969e0>, 'R1735835.pkl': <common.CityResult object at 0x7facdcd97700>, 'R175031.pkl': <common.CityResult object at 0x7facdcd95480>, 'R184985.pkl': <common.CityResult object at 0x7facdcd95c30>, 'R180114.pkl': <common.CityResult object at 0x7facdcd962c0>, 'R1282148.pkl': <common.CityResult object at 0x7facdcd95ab0>, 'R3540206.pkl': <common.CityResult object at 0x7facdce4b040>, 'R132206.pkl': <common.CityResult object at 0x7facdce4b880>, 'R175481.pkl': <common.CityResult object at 0x7facdce4ba60>, 'R2521434.pkl': <common.CityResult object at 0x7facdce48df0>, 'R3030295.pkl': <common.CityResult object at 0x7facdce49840>, 'R194124.pkl': <common.CityResult object at 0x7facdce48280>, 'R125650.pkl': <common.CityResult object at 0x7facdce49e10>, 'R62407.pkl': <common.CityResult object at 0x7facdce4acb0>, 'R119569.pkl': <common.CityResult object at 0x7facdd3453f0>, 'R174916.pkl': <common.CityResult object at 0x7facdd3452a0>, 'R2689476.pkl': <common.CityResult object at 0x7facdd345150>, 'R3694013.pkl': <common.CityResult object at 0x7facdd347280>, 'R2689426.pkl': <common.CityResult object at 0x7facdd3453c0>, 'R2682926.pkl': <common.CityResult object at 0x7facdd3472e0>, 'R2682908.pkl': <common.CityResult object at 0x7facdd345a80>, 'R2679930.pkl': <common.CityResult object at 0x7facdd3454b0>, 'R930950.pkl': <common.CityResult object at 0x7facdd345360>, 'R2408838.pkl': <common.CityResult object at 0x7facdd253790>, 'R1768273.pkl': <common.CityResult object at 0x7facdd251a20>, 'R1839563.pkl': <common.CityResult object at 0x7facdd251a80>, 'R3154746.pkl': <common.CityResult object at 0x7facdd253190>, 'R2738421.pkl': <common.CityResult object at 0x7facdd253c70>, 'R117709.pkl': <common.CityResult object at 0x7facdd252c20>, 'R1801797.pkl': <common.CityResult object at 0x7facdd253e50>, 'R2296668.pkl': <common.CityResult object at 0x7facdd250a30>, 'R963787.pkl': <common.CityResult object at 0x7facdd253a90>, 'R119959.pkl': <common.CityResult object at 0x7facdd252bf0>, 'R1792913.pkl': <common.CityResult object at 0x7facdd250fa0>, 'R1865772.pkl': <common.CityResult object at 0x7facdd250580>, 'R1863552.pkl': <common.CityResult object at 0x7facdd252710>, 'R134765.pkl': <common.CityResult object at 0x7facdd252b90>, 'R239887.pkl': <common.CityResult object at 0x7facdd251a50>, 'R3936114.pkl': <common.CityResult object at 0x7facdd250910>, 'R3388835.pkl': <common.CityResult object at 0x7facdd251930>, 'R2866010.pkl': <common.CityResult object at 0x7facdd253d90>, 'R2679914.pkl': <common.CityResult object at 0x7facdd253d60>, 'R2682910.pkl': <common.CityResult object at 0x7facdd253dc0>, 'R3308039.pkl': <common.CityResult object at 0x7facdd253700>, 'R3939930.pkl': <common.CityResult object at 0x7facdd253640>, 'R3116010.pkl': <common.CityResult object at 0x7facdd2536a0>, 'R2682914.pkl': <common.CityResult object at 0x7facdd251900>, 'R3864704.pkl': <common.CityResult object at 0x7facdd253f10>, 'R2679920.pkl': <common.CityResult object at 0x7facdd250640>, 'R3348896.pkl': <common.CityResult object at 0x7facdd253f40>, 'R2689429.pkl': <common.CityResult object at 0x7facdd253eb0>, 'R1838336.pkl': <common.CityResult object at 0x7facdd251960>, 'R3437391.pkl': <common.CityResult object at 0x7facdd253220>, 'R963794.pkl': <common.CityResult object at 0x7facdd252b60>, 'R347950.pkl': <common.CityResult object at 0x7facdd2503d0>, 'R1768502.pkl': <common.CityResult object at 0x7facdd2525c0>, 'R1865757.pkl': <common.CityResult object at 0x7facdd252410>, 'R2679921.pkl': <common.CityResult object at 0x7facdd2527d0>, 'R3160177.pkl': <common.CityResult object at 0x7facdd252cb0>, 'R62430.pkl': <common.CityResult object at 0x7facdd2528c0>, 'R3309365.pkl': <common.CityResult object at 0x7facdd250d00>, 'R3277038.pkl': <common.CityResult object at 0x7facdd2531c0>, 'R3396088.pkl': <common.CityResult object at 0x7facdd252c50>, 'R1759474.pkl': <common.CityResult object at 0x7facdd2518a0>, 'R112143.pkl': <common.CityResult object at 0x7facdd251870>, 'R1933719.pkl': <common.CityResult object at 0x7facdd250d90>, 'R2387995.pkl': <common.CityResult object at 0x7facdd252650>, 'R2069683.pkl': <common.CityResult object at 0x7facdd252fe0>, 'R2679904.pkl': <common.CityResult object at 0x7facdd252f50>, 'R2679906.pkl': <common.CityResult object at 0x7facdce33160>, 'R1599637.pkl': <common.CityResult object at 0x7facdce32200>, 'R1759477.pkl': <common.CityResult object at 0x7facdce332b0>, 'R2547126.pkl': <common.CityResult object at 0x7facdce31c90>, 'R1853866.pkl': <common.CityResult object at 0x7facdce33f10>, 'R3816063.pkl': <common.CityResult object at 0x7facdce30be0>, 'R2682932.pkl': <common.CityResult object at 0x7facdce33b50>, 'R124821.pkl': <common.CityResult object at 0x7facdce01ff0>, 'R1865315.pkl': <common.CityResult object at 0x7facdce01b70>, 'R2689444.pkl': <common.CityResult object at 0x7facdce03be0>, 'R2682925.pkl': <common.CityResult object at 0x7facdce01d80>, 'R3476238.pkl': <common.CityResult object at 0x7facdce00d00>, 'R3377835.pkl': <common.CityResult object at 0x7facdce02ec0>, 'R2318282.pkl': <common.CityResult object at 0x7facdce03f10>, 'R183421.pkl': <common.CityResult object at 0x7facdce01330>, 'R125785.pkl': <common.CityResult object at 0x7facdce03130>, 'R131885.pkl': <common.CityResult object at 0x7facdd31a9b0>, 'R2682922.pkl': <common.CityResult object at 0x7facdd31b400>, 'R2220322.pkl': <common.CityResult object at 0x7facdd31b430>, 'R1437129.pkl': <common.CityResult object at 0x7facdd31b3a0>, 'R3305920.pkl': <common.CityResult object at 0x7facdd31b700>, 'R1118893.pkl': <common.CityResult object at 0x7facdd31b7c0>, 'R3163676.pkl': <common.CityResult object at 0x7facdd31b250>, 'R1430616.pkl': <common.CityResult object at 0x7facdd31b2b0>, 'R1153174.pkl': <common.CityResult object at 0x7facdd31b280>, 'R1430614.pkl': <common.CityResult object at 0x7facdd31b2e0>, 'R3554015.pkl': <common.CityResult object at 0x7facdd31b160>, 'R2410555.pkl': <common.CityResult object at 0x7facdd31b0a0>, 'R2875222.pkl': <common.CityResult object at 0x7facdd31b130>, 'R1749244.pkl': <common.CityResult object at 0x7facdd31b070>, 'R2682889.pkl': <common.CityResult object at 0x7facdd1e4c40>, 'R1752948.pkl': <common.CityResult object at 0x7facdd1e4c70>, 'R2396450.pkl': <common.CityResult object at 0x7facdd1e4cd0>, 'R1418311.pkl': <common.CityResult object at 0x7facdd1e4d60>, 'R3511787.pkl': <common.CityResult object at 0x7facdd1e4df0>, 'R2623018.pkl': <common.CityResult object at 0x7facdd1e4be0>, 'R2049848.pkl': <common.CityResult object at 0x7facdd1e7670>, 'R181886.pkl': <common.CityResult object at 0x7facdd1e5a20>, 'R2712310.pkl': <common.CityResult object at 0x7facdd1e7430>, 'R1382820.pkl': <common.CityResult object at 0x7facdd1e76d0>, 'R2356000.pkl': <common.CityResult object at 0x7facdd1e4070>, 'R1674442.pkl': <common.CityResult object at 0x7facdd1e40d0>, 'R2679912.pkl': <common.CityResult object at 0x7facdd1e4130>, 'R3520594.pkl': <common.CityResult object at 0x7facdd1e4190>, 'R3377820.pkl': <common.CityResult object at 0x7facdd1e41f0>, 'R3031682.pkl': <common.CityResult object at 0x7facdd1e4250>, 'R184748.pkl': <common.CityResult object at 0x7facdd1e4310>, 'R4145881.pkl': <common.CityResult object at 0x7facdd1e7dc0>, 'R1768312.pkl': <common.CityResult object at 0x7facdd1e4610>, 'R1517394.pkl': <common.CityResult object at 0x7facdd1e46a0>, 'R119990.pkl': <common.CityResult object at 0x7facdd1e5bd0>, 'R3437172.pkl': <common.CityResult object at 0x7facdd1e6260>, 'R2682931.pkl': <common.CityResult object at 0x7facdd1e6050>, 'R2320570.pkl': <common.CityResult object at 0x7facdd1e4430>, 'R4198908.pkl': <common.CityResult object at 0x7facdd1e4490>, 'R253824.pkl': <common.CityResult object at 0x7facdd1e4760>, 'R2614178.pkl': <common.CityResult object at 0x7facdd1e7d60>, 'R2131434.pkl': <common.CityResult object at 0x7facdd1e7d00>, 'R2175059.pkl': <common.CityResult object at 0x7facdd1e7ca0>, 'R2628521.pkl': <common.CityResult object at 0x7facdd1e7c40>, 'R3488359.pkl': <common.CityResult object at 0x7facdd1e5b70>, 'R2344391.pkl': <common.CityResult object at 0x7facdd1e5510>, 'R2383939.pkl': <common.CityResult object at 0x7facdd1e54b0>, 'R2409550.pkl': <common.CityResult object at 0x7facdd1e5450>, 'R1768272.pkl': <common.CityResult object at 0x7facdd1e58d0>, 'R3390600.pkl': <common.CityResult object at 0x7facdd1e5930>, 'R1748539.pkl': <common.CityResult object at 0x7facdd1e5000>, 'R3158297.pkl': <common.CityResult object at 0x7facdd1e4fd0>, 'R2190496.pkl': <common.CityResult object at 0x7facdd1e5060>, 'R3377873.pkl': <common.CityResult object at 0x7facdd1e4f40>, 'R1761743.pkl': <common.CityResult object at 0x7facdd1e4ee0>, 'R114496.pkl': <common.CityResult object at 0x7facdd1e4e80>, 'R174387.pkl': <common.CityResult object at 0x7facdd1e4e20>, 'R1768315.pkl': <common.CityResult object at 0x7facdd1e4d00>, 'R1477110.pkl': <common.CityResult object at 0x7facdd1e4b80>, 'R389790.pkl': <common.CityResult object at 0x7facdd1e4b20>, 'R1645367.pkl': <common.CityResult object at 0x7facdd1e4ac0>, 'R3058686.pkl': <common.CityResult object at 0x7facdd1e4a60>, 'R1488071.pkl': <common.CityResult object at 0x7facdd1e4a00>, 'R1437127.pkl': <common.CityResult object at 0x7facdd1e49a0>, 'R2105705.pkl': <common.CityResult object at 0x7facdd1e4940>, 'R1670935.pkl': <common.CityResult object at 0x7facdd1e42e0>, 'R2350024.pkl': <common.CityResult object at 0x7facdd1e5840>, 'R1760124.pkl': <common.CityResult object at 0x7facdd1e5810>, 'R3441283.pkl': <common.CityResult object at 0x7facdd1e63b0>, 'R111825.pkl': <common.CityResult object at 0x7facdd1e6290>, 'R125411.pkl': <common.CityResult object at 0x7facdd1e5ff0>, 'R3437242.pkl': <common.CityResult object at 0x7facdd1e5c60>, 'R132145.pkl': <common.CityResult object at 0x7facdd1e5cc0>, 'R2728438.pkl': <common.CityResult object at 0x7facdd1e7640>, 'R174979.pkl': <common.CityResult object at 0x7facdd1e73d0>}\n"
     ]
    },
    {
     "ename": "IndexError",
     "evalue": "list index out of range",
     "output_type": "error",
     "traceback": [
      "\u001B[0;31m---------------------------------------------------------------------------\u001B[0m",
      "\u001B[0;31mIndexError\u001B[0m                                Traceback (most recent call last)",
      "Cell \u001B[0;32mIn[8], line 4\u001B[0m\n\u001B[1;32m      2\u001B[0m \u001B[38;5;28;01mfor\u001B[39;00m n \u001B[38;5;129;01min\u001B[39;00m r:\n\u001B[1;32m      3\u001B[0m     \u001B[38;5;28mprint\u001B[39m(r)\n\u001B[0;32m----> 4\u001B[0m     q \u001B[38;5;241m=\u001B[39m \u001B[43mn\u001B[49m\u001B[38;5;241;43m.\u001B[39;49m\u001B[43msplit\u001B[49m\u001B[43m(\u001B[49m\u001B[38;5;124;43m'\u001B[39;49m\u001B[38;5;124;43m_\u001B[39;49m\u001B[38;5;124;43m'\u001B[39;49m\u001B[43m)\u001B[49m\u001B[43m[\u001B[49m\u001B[38;5;241;43m1\u001B[39;49m\u001B[43m]\u001B[49m\u001B[38;5;241m.\u001B[39msplit(\u001B[38;5;124m'\u001B[39m\u001B[38;5;124m.\u001B[39m\u001B[38;5;124m'\u001B[39m)[\u001B[38;5;241m0\u001B[39m]\n\u001B[1;32m      5\u001B[0m     names[q] \u001B[38;5;241m=\u001B[39m q\n\u001B[1;32m      6\u001B[0m \u001B[38;5;28mprint\u001B[39m(names)\n",
      "\u001B[0;31mIndexError\u001B[0m: list index out of range"
     ]
    }
   ],
   "source": [
    "# names = {}\n",
    "# for n in r:\n",
    "#     print(r)\n",
    "#     q = n.split('_')[1].split('.')[0]\n",
    "#     names[q] = q\n",
    "# print(names)"
   ],
   "metadata": {
    "collapsed": false,
    "ExecuteTime": {
     "end_time": "2024-07-23T05:24:12.726490Z",
     "start_time": "2024-07-23T05:24:12.700483Z"
    }
   },
   "id": "18965c788f4da86a",
   "execution_count": 8
  },
  {
   "cell_type": "code",
   "outputs": [],
   "source": [
    "# mypath = '../for_paper/data/not_my'"
   ],
   "metadata": {
    "collapsed": false
   },
   "id": "c0e1a661e601d9ad",
   "execution_count": 12
  },
  {
   "cell_type": "code",
   "outputs": [],
   "source": [
    "# onlyfiles = [f for f in listdir(mypath) if isfile(join(mypath, f))]\n",
    "# \n",
    "# r : dict[str:CityResult]= {}\n",
    "# for name in onlyfiles:\n",
    "#     with open(join(mypath, name), 'rb') as f:\n",
    "#         r[name] = pickle.load(f)\n",
    "#         f.close()"
   ],
   "metadata": {
    "collapsed": false
   },
   "id": "45c7622ce9ede07f",
   "execution_count": 13
  },
  {
   "cell_type": "code",
   "outputs": [],
   "source": [
    "mypath = '../for_paper/data/data/data_csv'"
   ],
   "metadata": {
    "collapsed": false
   },
   "id": "d1de1c1710034178",
   "execution_count": 14
  },
  {
   "cell_type": "code",
   "outputs": [],
   "source": [
    "# import networkx as nx\n",
    "# from tqdm import tqdm\n",
    "# import csv\n",
    "# import osmnx as ox\n",
    "# \n",
    "# \n",
    "# def get_graph(city_id: str = 'R2555133') -> nx.Graph:\n",
    "#     gdf = ox.geocode_to_gdf(city_id, by_osmid=True)\n",
    "#     polygon_boundary = gdf.unary_union\n",
    "#     graph = ox.graph_from_polygon(polygon_boundary,\n",
    "#                                   network_type='drive',\n",
    "#                                   simplify=True)\n",
    "#     G = nx.Graph(graph)\n",
    "#     H = nx.Graph()\n",
    "#     # Добавляем рёбра в новый граф, копируя только веса\n",
    "#     for u, d in G.nodes(data=True):\n",
    "#         H.add_node(u, x=d['x'], y=d['y'])\n",
    "#     for u, v, d in G.edges(data=True):\n",
    "#         H.add_edge(u, v, length=d['length'])\n",
    "#     del city_id, gdf, polygon_boundary, graph, G\n",
    "#     return H\n",
    "# \n",
    "# onlyfiles = [f for f in listdir(mypath) if isfile(join(mypath, f))]\n",
    "# for name in tqdm(onlyfiles):\n",
    "#     if 'mistakes_' in name:\n",
    "#         continue\n",
    "#     with open(join(mypath, name), 'r') as f:\n",
    "#         csv_reader = csv.DictReader(f)\n",
    "#         data = [row for row in csv_reader]\n",
    "#         id = name.split('_')[1].split('.')[0]\n",
    "#         nn = 'graph_' + id +'.graphml'\n",
    "#         G = nx.read_graphml('../for_paper/data/data/data_graphs/'+nn)\n",
    "#         r = CityResult(name, '',name, len(G.nodes), len(G.edges))\n",
    "#         # print(name,data,)\n",
    "#         for d in data:\n",
    "#             cr = CentroidResult(1, 2,2,float(d['ks']))\n",
    "#             cr.speed_up.append(float(d['dijkstra_time'])/float(d['times']))    \n",
    "#             r.points_results.append(cr)\n",
    "#         r.save()"
   ],
   "metadata": {
    "collapsed": false
   },
   "id": "524bb5fe72e4aea6",
   "execution_count": 15
  },
  {
   "cell_type": "markdown",
   "source": [
    "Обработка данных"
   ],
   "metadata": {
    "collapsed": false
   },
   "id": "d0aa59bc52037c55"
  },
  {
   "cell_type": "code",
   "outputs": [],
   "source": [
    "USE_OPT_CONST = True # использовать ли фиттинг С0 для каждого города"
   ],
   "metadata": {
    "collapsed": false,
    "ExecuteTime": {
     "end_time": "2024-07-23T05:24:45.181323Z",
     "start_time": "2024-07-23T05:24:45.177982Z"
    }
   },
   "id": "861ce3c6a612602f",
   "execution_count": 10
  },
  {
   "cell_type": "code",
   "outputs": [
    {
     "name": "stdout",
     "output_type": "stream",
     "text": [
      "630\n"
     ]
    }
   ],
   "source": [
    "print(len(r))"
   ],
   "metadata": {
    "collapsed": false
   },
   "id": "ff75f188c086dcdd",
   "execution_count": 17
  },
  {
   "cell_type": "markdown",
   "source": [],
   "metadata": {
    "collapsed": false
   },
   "id": "655a2797dbf964b5"
  },
  {
   "cell_type": "code",
   "outputs": [
    {
     "ename": "KeyError",
     "evalue": "'PARIS.pkl'",
     "output_type": "error",
     "traceback": [
      "\u001B[0;31m---------------------------------------------------------------------------\u001B[0m",
      "\u001B[0;31mKeyError\u001B[0m                                  Traceback (most recent call last)",
      "Cell \u001B[0;32mIn[18], line 1\u001B[0m\n\u001B[0;32m----> 1\u001B[0m rr \u001B[38;5;241m=\u001B[39m {\u001B[38;5;124m'\u001B[39m\u001B[38;5;124mPARIS.pkl\u001B[39m\u001B[38;5;124m'\u001B[39m: \u001B[43mr\u001B[49m\u001B[43m[\u001B[49m\u001B[38;5;124;43m'\u001B[39;49m\u001B[38;5;124;43mPARIS.pkl\u001B[39;49m\u001B[38;5;124;43m'\u001B[39;49m\u001B[43m]\u001B[49m}\n\u001B[1;32m      2\u001B[0m r \u001B[38;5;241m=\u001B[39m rr\n",
      "\u001B[0;31mKeyError\u001B[0m: 'PARIS.pkl'"
     ]
    }
   ],
   "source": [
    "rr = {'PARIS.pkl': r['PARIS.pkl']}\n",
    "r = rr"
   ],
   "metadata": {
    "collapsed": false
   },
   "id": "fe6cd8169934dbc5",
   "execution_count": 18
  },
  {
   "cell_type": "code",
   "outputs": [
    {
     "name": "stderr",
     "output_type": "stream",
     "text": [
      " 54%|█████▍    | 89/165 [00:00<00:00, 449.83it/s]"
     ]
    },
    {
     "name": "stdout",
     "output_type": "stream",
     "text": [
      "R1312868.pkl\n",
      "3121 R1312868\n",
      "2.313030560035014 0.10063974011070952 3121\n",
      "R2758781.pkl\n",
      "15795 R2758781\n",
      "1.2481011810950564 0.12953794222835754 15795\n",
      "R2999176.pkl\n",
      "352 R2999176\n",
      "3.554315116425626 0.10959208649938476 352\n",
      "R182887.pkl\n",
      "1185 R182887\n",
      "2.9183930158247797 0.10440844443581732 1185\n",
      "R1390623.pkl\n",
      "4068 R1390623\n",
      "1.911061509192151 0.2921638565923858 4068\n",
      "R963764.pkl\n",
      "3053 R963764\n",
      "3.102656502412059 0.30038758139531896 3053\n",
      "R1735835.pkl\n",
      "1847 R1735835\n",
      "2.498374246427801 0.16617172909033323 1847\n",
      "R175031.pkl\n",
      "5003 R175031\n",
      "1.6987685593933681 0.08671101981172517 5003\n",
      "R184985.pkl\n",
      "17456 R184985\n",
      "1.1611830813155282 0.12263639073084565 17456\n",
      "R180114.pkl\n",
      "3524 R180114\n",
      "1.9821965954091358 0.1801034576159296 3524\n",
      "R1282148.pkl\n",
      "2744 R1282148\n",
      "2.364350675673226 0.10030408369820973 2744\n",
      "R3540206.pkl\n",
      "2340 R3540206\n",
      "2.227489796390197 0.12285223222579698 2340\n",
      "R132206.pkl\n",
      "9094 R132206\n",
      "1.359415467914818 0.11100997903602589 9094\n",
      "R175481.pkl\n",
      "1503 R175481\n",
      "2.9620597907101702 0.0921814630355549 1503\n",
      "R2521434.pkl\n",
      "745 R2521434\n",
      "2.897237938943016 0.12435268525647183 745\n",
      "R3030295.pkl\n",
      "3191 R3030295\n",
      "1.9149076268402085 0.10611385875441032 3191\n",
      "R194124.pkl\n",
      "1269 R194124\n",
      "3.3276047098360273 0.18235375240423268 1269\n",
      "R125650.pkl\n",
      "1386 R125650\n",
      "2.207595338303509 0.16955842304659507 1386\n",
      "R62407.pkl\n",
      "4819 R62407\n",
      "1.8563292255993062 0.13392838350031908 4819\n",
      "R119569.pkl\n",
      "4291 R119569\n",
      "1.97416377783867 0.258445428508798 4291\n",
      "R174916.pkl\n",
      "3553 R174916\n",
      "1.796087935782738 0.07224348601623036 3553\n",
      "R2689476.pkl\n",
      "23269 R2689476\n",
      "1.8000858076123514 0.1936859467343847 23269\n",
      "R3694013.pkl\n",
      "209 R3694013\n",
      "3.8449111272306395 0.11132104320272823 209\n",
      "R2689426.pkl\n",
      "1945 R2689426\n",
      "2.222751986782233 0.14020685362211538 1945\n",
      "R2682926.pkl\n",
      "3290 R2682926\n",
      "2.065615647596912 0.11229085429872286 3290\n",
      "R2682908.pkl\n",
      "4636 R2682908\n",
      "1.981596179612922 0.115557311857782 4636\n",
      "R2679930.pkl\n",
      "2174 R2679930\n",
      "2.1768724492094993 0.15007510249978898 2174\n",
      "R930950.pkl\n",
      "3020 R930950\n",
      "2.1059539068097948 0.11830343963748784 3020\n",
      "R2408838.pkl\n",
      "2789 R2408838\n",
      "1.8331893497548553 0.16474680683184614 2789\n",
      "R1768273.pkl\n",
      "12840 R1768273\n",
      "1.3930214466780337 0.153921328885385 12840\n",
      "R1839563.pkl\n",
      "1807 R1839563\n",
      "2.288664628852384 0.15732596486011072 1807\n",
      "R3154746.pkl\n",
      "8324 R3154746\n",
      "1.5898068922164268 0.13073477079993448 8324\n",
      "R2738421.pkl\n",
      "435 R2738421\n",
      "4.080667117188018 0.20817388830615718 435\n",
      "R117709.pkl\n",
      "1566 R117709\n",
      "2.67402310368761 0.17932437871017035 1566\n",
      "R1801797.pkl\n",
      "1658 R1801797\n",
      "2.965597277051558 0.20127298991127632 1658\n",
      "R2296668.pkl\n",
      "883 R2296668\n",
      "3.2247636895782543 0.14003776182588856 883\n",
      "R963787.pkl\n",
      "3509 R963787\n",
      "1.9686088920838711 0.2517548259737382 3509\n",
      "R119959.pkl\n",
      "1596 R119959\n",
      "3.2315134671636616 0.20350402538766804 1596\n",
      "R1792913.pkl\n",
      "2380 R1792913\n",
      "2.166530552115695 0.16391598755752196 2380\n",
      "R1865772.pkl\n",
      "1575 R1865772\n",
      "2.9910257865691814 0.1727782282452425 1575\n",
      "R1863552.pkl\n",
      "2021 R1863552\n",
      "2.433126595429125 0.16686294660254544 2021\n",
      "R134765.pkl\n",
      "1583 R134765\n",
      "3.2848112789683155 0.11715311675047275 1583\n",
      "R239887.pkl\n",
      "1791 R239887\n",
      "2.6188870963956554 0.13393692873174773 1791\n",
      "R3936114.pkl\n",
      "1719 R3936114\n",
      "2.1813471195899856 0.07854551501888868 1719\n",
      "R3388835.pkl\n",
      "3991 R3388835\n",
      "1.754102638159787 0.12584136805448906 3991\n",
      "R2866010.pkl\n",
      "2773 R2866010\n",
      "2.418928348691593 0.21703048340456058 2773\n",
      "R2679914.pkl\n",
      "18577 R2679914\n",
      "1.360179094119083 0.18174648592240647 18577\n",
      "R2682910.pkl\n",
      "4086 R2682910\n",
      "1.99356279513508 0.18066246038043507 4086\n",
      "R3308039.pkl\n",
      "742 R3308039\n",
      "3.536030259356706 0.11930597740758139 742\n",
      "R3939930.pkl\n",
      "419 R3939930\n",
      "3.6724696089341866 0.13195377729565522 419\n",
      "R3116010.pkl\n",
      "2904 R3116010\n",
      "2.110836507684057 0.13541761022193832 2904\n",
      "R2682914.pkl\n",
      "13813 R2682914\n",
      "1.3953162299116502 0.14012193972794126 13813\n",
      "R3864704.pkl\n",
      "5518 R3864704\n",
      "2.1606312967204824 0.1871760997627359 5518\n",
      "R2679920.pkl\n",
      "4819 R2679920\n",
      "1.8266134727647014 0.14087994542326718 4819\n",
      "R3348896.pkl\n",
      "3224 R3348896\n",
      "2.0731046846693117 0.141780005330354 3224\n",
      "R2689429.pkl\n",
      "9021 R2689429\n",
      "1.5512546733406185 0.09993582510975277 9021\n",
      "R1838336.pkl\n",
      "1863 R1838336\n",
      "2.6739231146644746 0.22628456715783515 1863\n",
      "R3437391.pkl\n",
      "7693 R3437391\n",
      "1.7367724515030505 0.12224796056011103 7693\n",
      "R963794.pkl\n",
      "4432 R963794\n",
      "2.0747620362647754 0.28030323130845886 4432\n",
      "R347950.pkl\n",
      "8932 R347950\n",
      "1.4332929257210432 0.08546431003975258 8932\n",
      "R1768502.pkl\n",
      "3182 R1768502\n",
      "1.9376358316957725 0.13976419130846618 3182\n",
      "R1865757.pkl\n",
      "1444 R1865757\n",
      "2.3875194240729685 0.2006646615692452 1444\n",
      "R2679921.pkl\n",
      "7905 R2679921\n",
      "1.594103056333255 0.11912280881380251 7905\n",
      "R3160177.pkl\n",
      "3303 R3160177\n",
      "2.0159153507215084 0.2198119571538781 3303\n",
      "R62430.pkl\n",
      "2119 R62430\n",
      "2.115852424442489 0.16102604561921435 2119\n",
      "R3309365.pkl\n",
      "938 R3309365\n",
      "2.7970648039864656 0.14431100053267915 938\n",
      "R3277038.pkl\n",
      "3253 R3277038\n",
      "1.921296121507105 0.16417431438750502 3253\n",
      "R3396088.pkl\n",
      "637 R3396088\n",
      "3.838677867609603 0.10149140183248777 637\n",
      "R1759474.pkl\n",
      "19452 R1759474\n",
      "1.3300820968065388 0.12192627792772187 19452\n",
      "R112143.pkl\n",
      "20906 R112143\n",
      "1.0895791357075435 0.1363107999899996 20906\n",
      "R1933719.pkl\n",
      "843 R1933719\n",
      "3.121774652571432 0.1200252138726082 843\n",
      "R2387995.pkl\n",
      "3414 R2387995\n",
      "1.9938443372361152 0.15611332285755858 3414\n",
      "R2069683.pkl\n",
      "1240 R2069683\n",
      "2.5680587182616437 0.1762272079098362 1240\n",
      "R2679904.pkl\n",
      "3538 R2679904\n",
      "3.1168601223966457 0.24909691131466072 3538\n",
      "R2679906.pkl\n",
      "6007 R2679906\n",
      "2.25641456935848 0.23738582094935115 6007\n",
      "R1599637.pkl\n",
      "615 R1599637\n",
      "3.6621909303263753 0.1188097180925283 615\n",
      "R1759477.pkl\n",
      "4109 R1759477\n",
      "2.0463921016124775 0.1021388980110365 4109\n",
      "R2547126.pkl\n",
      "1202 R2547126\n",
      "2.609796922533404 0.16884330659178243 1202\n",
      "R1853866.pkl\n",
      "5867 R1853866\n",
      "2.200893280511189 0.15438982933850176 5867\n",
      "R3816063.pkl\n",
      "578 R3816063\n",
      "3.6017970441523572 0.23844846940370076 578\n",
      "R2682932.pkl\n",
      "3465 R2682932\n",
      "1.8313673235417294 0.11459659126376599 3465\n",
      "R124821.pkl\n",
      "1761 R124821\n",
      "2.7361993607618516 0.20560033306293124 1761\n",
      "R1865315.pkl\n",
      "11061 R1865315\n",
      "1.4563589408786946 0.08339157494228491 11061\n",
      "R2689444.pkl\n",
      "2069 R2689444\n",
      "2.514601088819229 0.1738402361928146 2069\n",
      "R2682925.pkl\n",
      "2216 R2682925\n",
      "2.31751684701745 0.1650689785987593 2216\n",
      "R3476238.pkl\n",
      "1615 R3476238\n",
      "2.4623029183823077 0.08363856132081535 1615\n",
      "R3377835.pkl\n",
      "1237 R3377835\n",
      "2.674629365480154 0.10195113885951201 1237\n",
      "R2318282.pkl\n",
      "762 R2318282\n",
      "4.375428800631696 0.1505591105204648 762\n",
      "R183421.pkl\n",
      "1802 R183421\n",
      "2.6118943519685134 0.13888359628537755 1802\n",
      "R125785.pkl\n",
      "2067 R125785\n"
     ]
    },
    {
     "name": "stderr",
     "output_type": "stream",
     "text": [
      "100%|██████████| 165/165 [00:00<00:00, 444.80it/s]"
     ]
    },
    {
     "name": "stdout",
     "output_type": "stream",
     "text": [
      "2.286177638393395 0.20511854729363954 2067\n",
      "R131885.pkl\n",
      "15422 R131885\n",
      "1.578654780407796 0.07219207693438151 15422\n",
      "R2682922.pkl\n",
      "7709 R2682922\n",
      "1.5807235225663276 0.12338999412072327 7709\n",
      "R2220322.pkl\n",
      "373 R2220322\n",
      "3.752831331712046 0.10636831652175821 373\n",
      "R1437129.pkl\n",
      "1649 R1437129\n",
      "2.618012946670432 0.1251096907522271 1649\n",
      "R3305920.pkl\n",
      "1627 R3305920\n",
      "3.6810732201848233 0.3002175691387296 1627\n",
      "R1118893.pkl\n",
      "706 R1118893\n",
      "3.0848579707713673 0.09656683171292688 706\n",
      "R3163676.pkl\n",
      "576 R3163676\n",
      "3.98208056925569 0.24402932099875496 576\n",
      "R1430616.pkl\n",
      "4484 R1430616\n",
      "1.7248975828924762 0.11866940289585413 4484\n",
      "R1153174.pkl\n",
      "1029 R1153174\n",
      "2.6646324374130783 0.1749227392997511 1029\n",
      "R1430614.pkl\n",
      "4010 R1430614\n",
      "1.8279525011447488 0.11903133098747923 4010\n",
      "R3554015.pkl\n",
      "4286 R3554015\n",
      "2.010010742477528 0.10835553024245037 4286\n",
      "R2410555.pkl\n",
      "2132 R2410555\n",
      "2.687667135265531 0.1789847813581755 2132\n",
      "R2875222.pkl\n",
      "628 R2875222\n",
      "2.847662174754556 0.08676122140114535 628\n",
      "R1749244.pkl\n",
      "1468 R1749244\n",
      "2.965328794861315 0.17728170460566664 1468\n",
      "R2682889.pkl\n",
      "2451 R2682889\n",
      "3.1649417352968183 0.17558552738216188 2451\n",
      "R1752948.pkl\n",
      "5073 R1752948\n",
      "1.988740751636931 0.13655068394880848 5073\n",
      "R2396450.pkl\n",
      "20989 R2396450\n",
      "1.2271421405030236 0.12963471764084633 20989\n",
      "R1418311.pkl\n",
      "5237 R1418311\n",
      "2.101158287054019 0.1421569199314157 5237\n",
      "R3511787.pkl\n",
      "2140 R3511787\n",
      "2.4237508707291617 0.14824951583604315 2140\n",
      "R2623018.pkl\n",
      "1357 R2623018\n",
      "2.708912374318654 0.1696061860649332 1357\n",
      "R2049848.pkl\n",
      "3496 R2049848\n",
      "2.31913073638081 0.1940289905985562 3496\n",
      "R181886.pkl\n",
      "1418 R181886\n",
      "2.477511154510796 0.2187778020964389 1418\n",
      "R2712310.pkl\n",
      "1915 R2712310\n",
      "2.2622011360332066 0.12261339845470631 1915\n",
      "R1382820.pkl\n",
      "2287 R1382820\n",
      "2.34045943749073 0.16622597738037298 2287\n",
      "R2356000.pkl\n",
      "352 R2356000\n",
      "3.589170662436555 0.11205211056257365 352\n",
      "R1674442.pkl\n",
      "4650 R1674442\n",
      "1.8115655092643643 0.1611597232605001 4650\n",
      "R2679912.pkl\n",
      "2544 R2679912\n",
      "2.3338852031745065 0.17713122124728667 2544\n",
      "R3520594.pkl\n",
      "210 R3520594\n",
      "3.296739622703824 0.09474616508630163 210\n",
      "R3377820.pkl\n",
      "837 R3377820\n",
      "7.661743648091956 0.33992820617510255 837\n",
      "R3031682.pkl\n",
      "1071 R3031682\n",
      "2.77045349478094 0.15958047249984614 1071\n",
      "R184748.pkl\n",
      "216 R184748\n",
      "4.560269151882937 0.11239354071591089 216\n",
      "R4145881.pkl\n",
      "3304 R4145881\n",
      "1.952398014360863 0.14948176236319674 3304\n",
      "R1768312.pkl\n",
      "1685 R1768312\n",
      "2.0260598140542645 0.14254818453238108 1685\n",
      "R1517394.pkl\n",
      "1050 R1517394\n",
      "3.1558371877262505 0.11967082189027592 1050\n",
      "R119990.pkl\n",
      "2514 R119990\n",
      "2.1748121234298328 0.15609492718518544 2514\n",
      "R3437172.pkl\n",
      "1499 R3437172\n",
      "2.6995253693830654 0.17318088717136132 1499\n",
      "R2682931.pkl\n",
      "5784 R2682931\n",
      "1.979773846110448 0.15176209351439796 5784\n",
      "R2320570.pkl\n",
      "1077 R2320570\n",
      "2.6069692376499187 0.13028577716522444 1077\n",
      "R4198908.pkl\n",
      "1848 R4198908\n",
      "2.447488409202135 0.18875634255618387 1848\n",
      "R253824.pkl\n",
      "20712 R253824\n",
      "1.2436363448322711 0.1634356231569241 20712\n",
      "R2614178.pkl\n",
      "140 R2614178\n",
      "4.379873141245236 0.08099268010707673 140\n",
      "R2131434.pkl\n",
      "1148 R2131434\n",
      "2.675377801924027 0.18023912237645692 1148\n",
      "R2175059.pkl\n",
      "1006 R2175059\n",
      "2.416841700775078 0.09648114347020882 1006\n",
      "R2628521.pkl\n",
      "2371 R2628521\n",
      "2.1338544282404057 0.14122853259454946 2371\n",
      "R3488359.pkl\n",
      "1111 R3488359\n",
      "3.332459252840349 0.21967156562714546 1111\n",
      "R2344391.pkl\n",
      "757 R2344391\n",
      "3.4704550338933404 0.15855583101179924 757\n",
      "R2383939.pkl\n",
      "786 R2383939\n",
      "3.1269936999263113 0.15945688635773048 786\n",
      "R2409550.pkl\n",
      "935 R2409550\n",
      "2.9412349990727935 0.12566092587167635 935\n",
      "R1768272.pkl\n",
      "7171 R1768272\n",
      "1.7524761445391646 0.14489043605789917 7171\n",
      "R3390600.pkl\n",
      "2846 R3390600\n",
      "2.092923363034508 0.2031899842799608 2846\n",
      "R1748539.pkl\n",
      "3891 R1748539\n",
      "1.9504610819475685 0.12453269191899599 3891\n",
      "R3158297.pkl\n",
      "1638 R3158297\n",
      "3.0101815913473757 0.1475426734071407 1638\n",
      "R2190496.pkl\n",
      "507 R2190496\n",
      "3.331608040902439 0.13172453794617364 507\n",
      "R3377873.pkl\n",
      "4002 R3377873\n",
      "2.3987108377815236 0.14562260618986705 4002\n",
      "R1761743.pkl\n",
      "10726 R1761743\n",
      "1.7274478636102022 0.07980745254204594 10726\n",
      "R114496.pkl\n",
      "1355 R114496\n",
      "2.090831825210183 0.15941807889188503 1355\n",
      "R174387.pkl\n",
      "1250 R174387\n",
      "3.8644090893933147 0.17466593131964847 1250\n",
      "R1768315.pkl\n",
      "2563 R1768315\n",
      "2.8156720358820992 0.1398376962600778 2563\n",
      "R1477110.pkl\n",
      "2424 R1477110\n",
      "2.7187979644809417 0.1613397723458136 2424\n",
      "R389790.pkl\n",
      "3768 R389790\n",
      "1.8904940310977731 0.11212870337529282 3768\n",
      "R1645367.pkl\n",
      "761 R1645367\n",
      "3.3640088113406406 0.1090613421861324 761\n",
      "R3058686.pkl\n",
      "1020 R3058686\n",
      "2.789378552998062 0.1895595266948851 1020\n",
      "R1488071.pkl\n",
      "8182 R1488071\n",
      "1.2968672629033262 0.15157821967644058 8182\n",
      "R1437127.pkl\n",
      "4175 R1437127\n",
      "2.2391444306877406 0.1892725515179782 4175\n",
      "R2105705.pkl\n",
      "1955 R2105705\n",
      "2.3886017512631343 0.10164791292299691 1955\n",
      "R1670935.pkl\n",
      "4443 R1670935\n",
      "1.90230243150149 0.14131218159975759 4443\n",
      "R2350024.pkl\n",
      "926 R2350024\n",
      "3.3570935521027887 0.11260590022479149 926\n",
      "R1760124.pkl\n",
      "11435 R1760124\n",
      "1.4077276711465283 0.06230467943865408 11435\n",
      "R3441283.pkl\n",
      "1856 R3441283\n",
      "2.4754442908627157 0.09635794010300507 1856\n",
      "R111825.pkl\n",
      "2366 R111825\n",
      "2.022102099788884 0.12224445586654306 2366\n",
      "R125411.pkl\n",
      "711 R125411\n",
      "3.9992788734554323 0.15915963742776765 711\n",
      "R3437242.pkl\n",
      "908 R3437242\n",
      "3.0159873362096907 0.13455704475968483 908\n",
      "R132145.pkl\n",
      "2707 R132145\n",
      "2.2044301081750954 0.15406087667176493 2707\n",
      "R2728438.pkl\n",
      "13952 R2728438\n",
      "1.3684811341233407 0.17914876791908468 13952\n",
      "R174979.pkl\n",
      "621 R174979\n",
      "3.2556146675392847 0.10166066405366761 621\n"
     ]
    },
    {
     "name": "stderr",
     "output_type": "stream",
     "text": [
      "\n"
     ]
    }
   ],
   "source": [
    "from tqdm import tqdm\n",
    "import networkx as nx\n",
    "import csv\n",
    "\n",
    "nodes = []\n",
    "alpha_max = []\n",
    "speed_up = []\n",
    "err = []\n",
    "NODES= []\n",
    "c = []\n",
    "k = 0\n",
    "for i,name in tqdm(enumerate(r),total = len(r)):\n",
    "    # print(name)\n",
    "    res:CityResult = r[name]\n",
    "    print(name)\n",
    "    print(res.nodes, res.id)\n",
    "    N= res.nodes\n",
    "    \n",
    "\n",
    "    \n",
    "    \n",
    "    # alpha_max.append(max(p.speed_up[0] for p in res.points_results))\n",
    "    # print(res.points_results[0].errors)\n",
    "    k+=1\n",
    "    X = [p.alpha for p in res.points_results]\n",
    "    A = np.array([p.speed_up[0] for p in res.points_results])\n",
    "    E = np.array([np.mean(p.errors) for p in res.points_results])\n",
    "    \n",
    "    \n",
    "    NODES.append(res.nodes)\n",
    "    # for p in tqdm(res.points_results):\n",
    "    #     r = p.resolution\n",
    "    #     communities = graph_generator.resolve_communities(G, r)\n",
    "    #     \n",
    "    #     m.append(nx.community.modularity(G, communities, resolution=r))\n",
    "    #     m_1.append(nx.community.modularity(G, communities))\n",
    "    #     m_w.append(nx.community.modularity(G, communities,weight='length', resolution=r))\n",
    "    #     m_w_1.append(nx.community.modularity(G, communities, weight='length',))\n",
    "    #     \n",
    "    # \n",
    "    # fig, axs = plt.subplots(2, 2)\n",
    "    # fig.set_figwidth(30)\n",
    "    # fig.set_figheight(30)\n",
    "    # \n",
    "    # axs[0][0].scatter(m, E, label = 'm')\n",
    "    # axs[0][0].legend()\n",
    "    # \n",
    "    # axs[0][1].scatter(m_1, E, label = 'm1')\n",
    "    # axs[0][1].legend()\n",
    "    # \n",
    "    # axs[1][0].scatter(m_w, E, label = 'mw')\n",
    "    # axs[1][0].legend()\n",
    "    # \n",
    "    # axs[1][1].scatter(m_w_1, E, label = 'mw1')\n",
    "    # axs[1][1].legend()\n",
    "        # id = name.split('_')[1].split('.')[0]\n",
    "        # nn = 'graph_' + id +'.graphml'\n",
    "#         G = nx.read_graphml('../for_paper/data/data/data_graphs/'+nn)\n",
    "#         r = CityResult(name, '',name, len(G.nodes), len(G.edges))\n",
    "#         # print(name,data,)\n",
    "#         for d in data:\n",
    "#             cr = CentroidResult(1, 2,2,float(d['ks']))\n",
    "#             cr.speed_up.append(float(d['dijkstra_time'])/float(d['times']))    \n",
    "#             r.points_results.append(cr)\n",
    "    \n",
    "    # \n",
    "    # print(X)\n",
    "    # axs[1].errorbar(X, E, fmt='o', label = \"{}: {}\".format(name, r[name].nodes))\n",
    "    # axs[1].set(xlabel='alpha', ylabel='Err')\n",
    "    # axs[1].legend()\n",
    "    # \n",
    "    # alpha = np.argmax(A)\n",
    "    # # alpha_max.append(X[alpha])\n",
    "    # nodes.append(res.nodes)\n",
    "    def ax(x,c0 = 2):\n",
    "        # c0 = -0.48 * np.log(N) + 6\n",
    "        b1 =2\n",
    "        b0 = res.edges/res.nodes\n",
    "        k = c0/np.sqrt(x*N)*(1 - np.log(x)/np.log(N)) + b1/b0 * x * (1 + np.log(x)/np.log(N)) +1/(np.sqrt(x*N)) * (b0+1)/b0/np.log(N)\n",
    "        return 1/k\n",
    "    if USE_OPT_CONST:\n",
    "        # Xx = np.array(X)\n",
    "        # Aa = np.array(A)\n",
    "        # idx = np.argwhere(Xx < 0.2)\n",
    "        # idx.resize(len(idx))\n",
    "        # Xx = Xx[idx]\n",
    "        # Aa = Aa[idx]\n",
    "        popt = curve_fit(ax, X, A, p0 = [2])\n",
    "        x = np.linspace(1/N,1,5000)\n",
    "        y = ax(x, *popt[0])\n",
    "        c.append(popt[0][0])\n",
    "        dd = popt[0][0]/ np.sqrt(popt[1][0][0])\n",
    "        print(popt[0][0], np.sqrt(popt[1][0][0]),N)\n",
    "        # print(*popt[0])\n",
    "        speed_up.append(max(y))\n",
    "        alpha_max.append(x[np.argmax(y)])\n",
    "    else:\n",
    "        x = np.linspace(1/N,1,5000)\n",
    "        y = ax(x)\n",
    "    # \n",
    "    # \n",
    "    # # axs[0].errorbar(x, y, color=\"black\",linewidth=4)\n",
    "    # # print(i)\n",
    "    # if dd < 2:\n",
    "    #     print(name, dd)\n",
    "    #     fig, axs = plt.subplots(1, 1)\n",
    "    #     # fig.rc('legend', fontsize=8)    # legend fontsize\n",
    "    #     # fig.rcParams.update({'font.size': 20})\n",
    "    #     fig.set_figwidth(25)\n",
    "    #     fig.set_figheight(15)\n",
    "    #     axs=[axs]\n",
    "    #     if name!='output_R1390623.csv.pkl':\n",
    "    #         axs[0].errorbar(x, y,linewidth=8,alpha=0.2)\n",
    "    # \n",
    "    #     axs[0].scatter(X, A, label = \"{}: {}\".format(name, r[name].nodes), s = 40)\n",
    "    #     axs[0].set(xlabel='alpha', ylabel='Acceleration')\n",
    "    #     # axs = [axs]\n",
    "    #     # axs[0].legend()\n",
    "    # # print(X)\n",
    "    # # print(A)\n",
    "    "
   ],
   "metadata": {
    "collapsed": false,
    "ExecuteTime": {
     "end_time": "2024-07-23T05:32:50.180548Z",
     "start_time": "2024-07-23T05:32:49.792835Z"
    }
   },
   "id": "35cfd282c48fa563",
   "execution_count": 27
  },
  {
   "cell_type": "code",
   "outputs": [],
   "source": [
    "for i in range(len(err)):\n",
    "    err[i] = float(err[i])"
   ],
   "metadata": {
    "collapsed": false
   },
   "id": "33b6f6ccc8ac2d1d",
   "execution_count": 0
  },
  {
   "cell_type": "code",
   "outputs": [
    {
     "name": "stdout",
     "output_type": "stream",
     "text": [
      "330\n"
     ]
    }
   ],
   "source": [
    "print(len(alpha_max))"
   ],
   "metadata": {
    "collapsed": false,
    "ExecuteTime": {
     "end_time": "2024-07-23T05:32:37.360082Z",
     "start_time": "2024-07-23T05:32:37.354669Z"
    }
   },
   "id": "90f9e4f8ed935778",
   "execution_count": 26
  },
  {
   "cell_type": "code",
   "outputs": [],
   "source": [
    "fig, axs = plt.subplots(2, 2)\n",
    "fig.set_figwidth(30)\n",
    "fig.set_figheight(30)\n",
    "    \n",
    "axs[0][0].scatter(m, E, label = 'm')\n",
    "axs[0][0].legend()\n",
    "    \n",
    "axs[0][1].scatter(m_1, E, label = 'm1')\n",
    "axs[0][1].legend()\n",
    "    \n",
    "axs[1][0].scatter(m_w, E, label = 'mw')\n",
    "axs[1][0].legend()\n",
    "    \n",
    "axs[1][1].scatter(m_w_1, E, label = 'mw1')\n",
    "axs[1][1].legend()"
   ],
   "metadata": {
    "collapsed": false
   },
   "id": "628896cb95d38d14",
   "execution_count": 0
  },
  {
   "cell_type": "code",
   "outputs": [],
   "source": [
    "print(len(G.nodes))"
   ],
   "metadata": {
    "collapsed": false
   },
   "id": "38c1c30ebfc84f43",
   "execution_count": 0
  },
  {
   "cell_type": "code",
   "outputs": [],
   "source": [
    "print(type(err))"
   ],
   "metadata": {
    "collapsed": false
   },
   "id": "408e7b983d418783",
   "execution_count": 0
  },
  {
   "cell_type": "code",
   "outputs": [],
   "source": [
    "fig, axs = plt.subplots(1, 1)\n",
    "fig.set_figwidth(25)\n",
    "fig.set_figheight(7)\n",
    "\n",
    "NODES = np.array(NODES)\n",
    "speed_up = np.array(speed_up)\n",
    "err = np.array(err)\n",
    "\n",
    "idx = np.argsort(NODES)\n",
    "\n",
    "NODES = NODES[idx]\n",
    "speed_up = speed_up[idx]\n",
    "err = err[idx]\n",
    "\n",
    "# idx = np.argwhere(NODES > 10000)\n",
    "\n",
    "\n",
    "def func(x):\n",
    "    return 1/2 * (x/4)**(1/3)\n",
    "\n",
    "xx = np.linspace(min(NODES), max(NODES),1000)\n",
    "yy = func(xx)\n",
    "# NODES = NODES[idx]\n",
    "# speed_up = speed_up[idx]\n",
    "# err = err[idx]\n",
    "\n",
    "axs.scatter(NODES,speed_up,s = 13,alpha=1,marker='o',linewidth=4,)\n",
    "axs.plot(xx,yy, color = 'red', linewidth=3.0)\n",
    "axs.set(xlabel='NODES', ylabel='Acceleration')\n",
    "axs.set_xscale('log')\n",
    "# axs2 = axs.twinx() \n",
    "# axs2.scatter(NODES,err, s = 13,alpha=0.5,zorder=100,marker='o',linewidth=4, c ='r')\n",
    "# axs2.set(ylabel='ERROR')\n",
    "# axs2.yaxis.label.set_color('red')\n"
   ],
   "metadata": {
    "collapsed": false
   },
   "id": "259ee6fef0ef8a4",
   "execution_count": 0
  },
  {
   "cell_type": "code",
   "outputs": [],
   "source": [
    "print('speed_up',np.mean(speed_up))\n",
    "print('err',np.mean(err))"
   ],
   "metadata": {
    "collapsed": false
   },
   "id": "e6b7c0e5d75ce440",
   "execution_count": 0
  },
  {
   "cell_type": "code",
   "outputs": [],
   "source": [
    "nodes = []\n",
    "alpha_max = []\n",
    "c = []\n",
    "k = 0\n",
    "for i,name in enumerate(r):\n",
    "\n",
    "    res:CityResult = r[name]\n",
    "    N= res.nodes\n",
    "\n",
    "    alpha_max.append(max(p.speed_up[0] for p in res.points_results))\n",
    "\n",
    "    k+=1\n",
    "    X = [p.alpha for p in res.points_results]\n",
    "    A = [p.speed_up[0] for p in res.points_results]\n",
    "    E = [np.mean(p.errors) for p in res.points_results]\n",
    "\n",
    "    print(X)\n",
    "    axs[1].errorbar(X, E, fmt='o', label = \"{}: {}\".format(name, r[name].nodes))\n",
    "    axs[1].set(xlabel='alpha', ylabel='Err')\n",
    "    axs[1].legend()\n",
    "\n",
    "    alpha = np.argmax(A)\n",
    "    # alpha_max.append(X[alpha])\n",
    "    nodes.append(res.nodes)\n",
    "    def ax(x,c0 = 2):\n",
    "        # c0 = -0.48 * np.log(N) + 6\n",
    "        b1 =2\n",
    "        b0 = res.edges/res.nodes\n",
    "        k = c0/np.sqrt(x*N)*(1 - np.log(x)/np.log(N)) + b1/b0 * x * (1 + np.log(x)/np.log(N)) +1/(np.sqrt(x*N)) * (b0+1)/b0/np.log(N)\n",
    "        return 1/k\n",
    "    if USE_OPT_CONST:\n",
    "        # Xx = np.array(X)\n",
    "        # Aa = np.array(A)\n",
    "        # idx = np.argwhere(Xx < 0.2)\n",
    "        # idx.resize(len(idx))\n",
    "        # Xx = Xx[idx]\n",
    "        # Aa = Aa[idx]\n",
    "        popt = curve_fit(ax, X, A, p0 = [2])\n",
    "        x = np.linspace(1/N,1,5000)\n",
    "        y = ax(x, *popt[0])\n",
    "        c.append(popt[0][0])\n",
    "        dd = popt[0][0]/ np.sqrt(popt[1][0][0])\n",
    "        print(popt[0][0], np.sqrt(popt[1][0][0]),N)\n",
    "        # print(*popt[0])\n",
    "    else:\n",
    "        x = np.linspace(1/N,1,5000)\n",
    "        y = ax(x)\n",
    "\n",
    "\n",
    "    # axs[0].errorbar(x, y, color=\"black\",linewidth=4)\n",
    "    # print(i)\n",
    "    if dd < 2:\n",
    "        print(name, dd)\n",
    "        fig, axs = plt.subplots(1, 1)\n",
    "        # fig.rc('legend', fontsize=8)    # legend fontsize\n",
    "        # fig.rcParams.update({'font.size': 20})\n",
    "        fig.set_figwidth(25)\n",
    "        fig.set_figheight(15)\n",
    "        axs=[axs]\n",
    "        if name!='output_R1390623.csv.pkl':\n",
    "            axs[0].errorbar(x, y,linewidth=8,alpha=0.2)\n",
    "\n",
    "        axs[0].scatter(X, A, label = \"{}: {}\".format(name, r[name].nodes), s = 40)\n",
    "        axs[0].set(xlabel='alpha', ylabel='Acceleration')\n",
    "        # axs = [axs]\n",
    "        # axs[0].legend()\n",
    "    # print(X)\n",
    "    # print(A)\n"
   ],
   "metadata": {
    "collapsed": false
   },
   "id": "6d92d09806de0495",
   "execution_count": 0
  },
  {
   "cell_type": "code",
   "outputs": [
    {
     "name": "stdout",
     "output_type": "stream",
     "text": [
      "[0.06712162]\n"
     ]
    },
    {
     "data": {
      "text/plain": "<matplotlib.legend.Legend at 0x7facc4ddffd0>"
     },
     "execution_count": 33,
     "metadata": {},
     "output_type": "execute_result"
    },
    {
     "data": {
      "text/plain": "<Figure size 3000x3000 with 1 Axes>",
      "image/png": "[encoded data removed]"
     },
     "metadata": {},
     "output_type": "display_data"
    }
   ],
   "source": [
    "fig, axs = plt.subplots(1, 1)\n",
    "fig.set_figwidth(30)\n",
    "fig.set_figheight(30)\n",
    "\n",
    "def f (x,a):\n",
    "    return a*x**(1/2)\n",
    "\n",
    "popt = curve_fit(f,NODES, speed_up)\n",
    "print(popt[0])\n",
    "\n",
    "axs.scatter(NODES, speed_up, label = 'data')\n",
    "xx = np.linspace(min(NODES),max(NODES),1000)\n",
    "axs.scatter(xx, f(xx,*popt[0]), label = 'a*NODES ^ (1/2)')\n",
    "\n",
    "axs.legend()\n",
    "    "
   ],
   "metadata": {
    "collapsed": false,
    "ExecuteTime": {
     "end_time": "2024-07-23T05:34:06.563761Z",
     "start_time": "2024-07-23T05:34:05.968733Z"
    }
   },
   "id": "a8e770a9ff3ddebe",
   "execution_count": 33
  },
  {
   "cell_type": "code",
   "outputs": [],
   "source": [
    "fig, axs = plt.subplots(1, 1)\n",
    "fig.set_figwidth(25)\n",
    "fig.set_figheight(7)\n",
    "def f(x):\n",
    "    return 4 ** (1/3) * x ** (1/3)/3 - 3\n",
    "x = np.linspace(min(nodes), max(nodes), 1000)\n",
    "y = f(x)\n",
    "axs.errorbar(x, y, fmt='o', label = \"{}: {}\".format(name, r[name].nodes))\n",
    "# axs.errorbar(nodes, alpha_max, fmt='o', label = \"{}: {}\".format(name, r[name].nodes))\n",
    "\n",
    "\n",
    "axs.set(xlabel='alpha', ylabel='A')\n",
    "# axs.legend()\n",
    "axs.errorbar(nodes, alpha_max, fmt='o', label = \"{}: {}\".format(name, r[name].nodes))"
   ],
   "metadata": {
    "collapsed": false
   },
   "id": "fb0c2ad39f61a836",
   "execution_count": 0
  },
  {
   "cell_type": "code",
   "outputs": [],
   "source": [
    "fig, axs = plt.subplots(1, 1)\n",
    "fig.set_figwidth(10)\n",
    "fig.set_figheight(10)\n",
    "\n",
    "axs.set(xlabel='log(N)', ylabel='C0')\n",
    "# axs.legend()\n",
    "# \n",
    "def f(x,a,b):\n",
    "    return a*x+b\n",
    "        \n",
    "# x = np.linspace(np.log(min(nodes)), np.log(max(nodes)), 1000)\n",
    "# y = f(x)\n",
    "\n",
    "# axs.errorbar(x,y)\n",
    "indx = np.argsort(nodes)\n",
    "n = np.array(nodes)[indx]\n",
    "n = np.log(n)\n",
    "cc = np.array(c)[indx]\n",
    "# cc[6]-=0.25\n",
    "axs.errorbar(n, cc, fmt='o')\n",
    "# axs.errorbar(nodes, /alpha_max, fmt='o', label = \"{}: {}\".format(name, r[name].nodes))\n",
    "popt = curve_fit(f, n, cc, p0 = [-1,1])\n",
    "print(popt[0])\n",
    "x = np.linspace(np.log(min(nodes)), np.log(max(nodes)), 1000)\n",
    "y = f(x,*popt[0])\n",
    "# \n",
    "axs.errorbar(x,y)\n"
   ],
   "metadata": {
    "collapsed": false
   },
   "id": "261c3712a9a0fad0",
   "execution_count": 0
  },
  {
   "cell_type": "code",
   "outputs": [],
   "source": [],
   "metadata": {
    "collapsed": false
   },
   "id": "a45bf59235e05f83",
   "execution_count": 0
  },
  {
   "cell_type": "markdown",
   "source": [
    "Графики:"
   ],
   "metadata": {
    "collapsed": false
   },
   "id": "854f9b8a8ed4abe9"
  },
  {
   "cell_type": "markdown",
   "source": [],
   "metadata": {
    "collapsed": false
   },
   "id": "de4e4b35c4693c93"
  },
  {
   "cell_type": "code",
   "outputs": [],
   "source": [],
   "metadata": {
    "collapsed": false
   },
   "id": "1e9265f8337a42aa",
   "execution_count": 0
  },
  {
   "cell_type": "markdown",
   "source": [
    "Построим график ускорения от плотности"
   ],
   "metadata": {
    "collapsed": false
   },
   "id": "833adbea10635866"
  },
  {
   "cell_type": "markdown",
   "source": [
    "Уберем последние 4 точки"
   ],
   "metadata": {
    "collapsed": false
   },
   "id": "77beedfa0dc17aa6"
  },
  {
   "cell_type": "code",
   "outputs": [],
   "source": [],
   "metadata": {
    "collapsed": false
   },
   "id": "30bec3a22938ee6b",
   "execution_count": 0
  },
  {
   "cell_type": "markdown",
   "source": [],
   "metadata": {
    "collapsed": false
   },
   "id": "98c656712f782938"
  },
  {
   "cell_type": "markdown",
   "source": [],
   "metadata": {
    "collapsed": false
   },
   "id": "7d57fbc347412d13"
  }
 ],
 "metadata": {
  "kernelspec": {
   "display_name": "Python 3",
   "language": "python",
   "name": "python3"
  },
  "language_info": {
   "codemirror_mode": {
    "name": "ipython",
    "version": 2
   },
   "file_extension": ".py",
   "mimetype": "text/x-python",
   "name": "python",
   "nbconvert_exporter": "python",
   "pygments_lexer": "ipython2",
   "version": "2.7.6"
  }
 },
 "nbformat": 4,
 "nbformat_minor": 5
}
